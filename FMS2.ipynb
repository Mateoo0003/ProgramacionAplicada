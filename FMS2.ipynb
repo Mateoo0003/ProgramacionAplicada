{
 "cells": [
  {
   "cell_type": "code",
   "execution_count": 5,
   "metadata": {},
   "outputs": [
    {
     "name": "stdout",
     "output_type": "stream",
     "text": [
      "Estado activo: S1. Entrada: [0, 1, 0, 0, 0]. Estado siguiente:  S2 , Salida:  [1, 0, 0, 0, 0]\n",
      "Estado activo: S2. Entrada: [0, 0, 0, 1, 1]. Estado siguiente:  S3 , Salida:  [0, 0, 0, 1, 1]\n",
      "Estado activo: S3. Entrada: [0, 0, 0, 0, 1]. Estado siguiente:  S3 , Salida:  [0, 0, 1, 0, 0]\n",
      "Estado activo: S3. Entrada: [0, 0, 1, 0, 0]. Estado siguiente:  S3 , Salida:  [0, 0, 1, 0, 0]\n",
      "Estado activo: S3. Entrada: [1, 0, 0, 0, 0]. Estado siguiente:  S1 , Salida:  [0, 0, 1, 0, 0]\n"
     ]
    }
   ],
   "source": [
    "# Entrada: Vacío, Nivel 1, Nivel 2, Temperatura, Time\n",
    "# Salida: V1, V2, V3, C, Start temporizador\n",
    "\n",
    "S1 = [1,0,0,0,0] \n",
    "S2 = [0,0,0,1,1]\n",
    "S3 = [0,0,1,0,0]\n",
    "S4 = [0,1,0,0,0]\n",
    "\n",
    "def statusmachine(estado,entrada):\n",
    "    \n",
    "    if estado == 'S1':\n",
    "        salida = [1,0,0,0,0]\n",
    "        if entrada == [0,1,0,0,0]: \n",
    "            estado = 'S2'\n",
    "    elif estado == 'S2':\n",
    "        salida = [0,0,0,1,1]\n",
    "        if entrada == [0,0,0,1,1]:\n",
    "            estado = 'S3'\n",
    "        elif entrada[3] == [0]:\n",
    "            estado = 'S4'\n",
    "    elif estado == 'S3':\n",
    "        salida = [0,0,1,0,0]\n",
    "        if entrada == [1,0,0,0,0]:\n",
    "            estado = 'S1'\n",
    "    elif estado == 'S4':\n",
    "        salida = [0,1,0,0,0]\n",
    "        if entrada == [0,0,1,0,0]:\n",
    "            estado = 'S3'\n",
    "    else: \n",
    "        salida = [0,0,0,0,0]\n",
    "        \n",
    "    return estado, salida\n",
    "\n",
    "estado = 'S1'\n",
    "entradas = [[0,1,0,0,0],\n",
    "            [0,0,0,1,1],\n",
    "            [0,0,0,0,1],\n",
    "            [0,0,1,0,0],\n",
    "            [1,0,0,0,0]]\n",
    "\n",
    "for entrada in entradas: \n",
    "    print('Estado activo: '+estado+'. Entrada:',entrada,end='. ')\n",
    "    estado,salida=statusmachine(estado,entrada)\n",
    "    print('Estado siguiente: ',estado,', Salida: ',salida)"
   ]
  }
 ],
 "metadata": {
  "kernelspec": {
   "display_name": "Python 3.10.6 64-bit",
   "language": "python",
   "name": "python3"
  },
  "language_info": {
   "codemirror_mode": {
    "name": "ipython",
    "version": 3
   },
   "file_extension": ".py",
   "mimetype": "text/x-python",
   "name": "python",
   "nbconvert_exporter": "python",
   "pygments_lexer": "ipython3",
   "version": "3.10.6"
  },
  "orig_nbformat": 4,
  "vscode": {
   "interpreter": {
    "hash": "aee8b7b246df8f9039afb4144a1f6fd8d2ca17a180786b69acc140d282b71a49"
   }
  }
 },
 "nbformat": 4,
 "nbformat_minor": 2
}
