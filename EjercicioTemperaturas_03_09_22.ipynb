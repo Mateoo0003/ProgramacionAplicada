{
  "cells": [
    {
      "cell_type": "code",
      "execution_count": null,
      "metadata": {
        "id": "qMfiT7VU82uF"
      },
      "outputs": [],
      "source": [
        "import matplotlib.pyplot as plt\n",
        "import os"
      ]
    },
    {
      "cell_type": "code",
      "execution_count": null,
      "metadata": {
        "colab": {
          "base_uri": "https://localhost:8080/",
          "height": 35
        },
        "id": "JEtpj0pl9FM2",
        "outputId": "0e052588-b9fc-4b22-bc8c-7f901280dbdd"
      },
      "outputs": [
        {
          "data": {
            "application/vnd.google.colaboratory.intrinsic+json": {
              "type": "string"
            },
            "text/plain": [
              "'/content'"
            ]
          },
          "execution_count": 5,
          "metadata": {},
          "output_type": "execute_result"
        }
      ],
      "source": [
        "os.getcwd()"
      ]
    },
    {
      "cell_type": "code",
      "execution_count": null,
      "metadata": {
        "colab": {
          "base_uri": "https://localhost:8080/"
        },
        "id": "8LluGqh9A6mN",
        "outputId": "93888e92-deb3-497f-fd9a-8dbc19ee46a1"
      },
      "outputs": [
        {
          "data": {
            "text/plain": [
              "['.config', 'Datos', '.ipynb_checkpoints', 'sample_data']"
            ]
          },
          "execution_count": 7,
          "metadata": {},
          "output_type": "execute_result"
        }
      ],
      "source": [
        "os.listdir()"
      ]
    },
    {
      "cell_type": "code",
      "execution_count": null,
      "metadata": {
        "id": "GFHQH17yBBvt"
      },
      "outputs": [],
      "source": [
        "os.chdir('/content/Datos')"
      ]
    },
    {
      "cell_type": "code",
      "execution_count": null,
      "metadata": {
        "colab": {
          "base_uri": "https://localhost:8080/",
          "height": 35
        },
        "id": "q-8kdO2lBQNl",
        "outputId": "60ba8af0-d401-4a61-b883-8de525cdb126"
      },
      "outputs": [
        {
          "data": {
            "application/vnd.google.colaboratory.intrinsic+json": {
              "type": "string"
            },
            "text/plain": [
              "'/content/Datos'"
            ]
          },
          "execution_count": 13,
          "metadata": {},
          "output_type": "execute_result"
        }
      ],
      "source": [
        "os.getcwd()"
      ]
    },
    {
      "cell_type": "code",
      "execution_count": null,
      "metadata": {
        "colab": {
          "base_uri": "https://localhost:8080/"
        },
        "id": "zgdPN9jgBZ0U",
        "outputId": "6b1b015d-44a7-47b5-af3d-be3982877f64"
      },
      "outputs": [
        {
          "data": {
            "text/plain": [
              "['DosTemperaturas_24h.csv']"
            ]
          },
          "execution_count": 14,
          "metadata": {},
          "output_type": "execute_result"
        }
      ],
      "source": [
        "os.listdir()"
      ]
    },
    {
      "cell_type": "code",
      "execution_count": null,
      "metadata": {
        "id": "yz3sx9_bBrf1"
      },
      "outputs": [],
      "source": [
        "with open('DosTemperaturas_24h.csv') as doc:\n",
        "  data=doc.read()\n",
        "# data"
      ]
    },
    {
      "cell_type": "code",
      "execution_count": null,
      "metadata": {
        "colab": {
          "base_uri": "https://localhost:8080/"
        },
        "id": "6Wo-AImBCKzV",
        "outputId": "0438d934-a99d-42e9-9ec5-555e361e650a"
      },
      "outputs": [
        {
          "name": "stdout",
          "output_type": "stream",
          "text": [
            "185, 183, 180, 169, 146, 129, 110,  89,  72,  48,  39,  35,  28,  39,  48,  67,  85, 111, 139, 164, 183, 203, 224, 236\n",
            "197, 181, 173, 155, 142, 119,  86,  54,  30,  12,   3, 241, 245, 230, 236,   3,  15,  32,  51,  72, 100, 111, 131, 133\n"
          ]
        }
      ],
      "source": [
        "flist,slist=data.split('\\n')\n",
        "print(flist)\n",
        "print(slist)"
      ]
    },
    {
      "cell_type": "code",
      "execution_count": null,
      "metadata": {
        "colab": {
          "base_uri": "https://localhost:8080/"
        },
        "id": "43iHna8DDrwE",
        "outputId": "0ba61fba-9a71-46b8-bd24-5cc74fd793f1"
      },
      "outputs": [
        {
          "data": {
            "text/plain": [
              "['185',\n",
              " ' 183',\n",
              " ' 180',\n",
              " ' 169',\n",
              " ' 146',\n",
              " ' 129',\n",
              " ' 110',\n",
              " '  89',\n",
              " '  72',\n",
              " '  48',\n",
              " '  39',\n",
              " '  35',\n",
              " '  28',\n",
              " '  39',\n",
              " '  48',\n",
              " '  67',\n",
              " '  85',\n",
              " ' 111',\n",
              " ' 139',\n",
              " ' 164',\n",
              " ' 183',\n",
              " ' 203',\n",
              " ' 224',\n",
              " ' 236']"
            ]
          },
          "execution_count": 92,
          "metadata": {},
          "output_type": "execute_result"
        }
      ],
      "source": [
        "fdata=flist.split(',')\n",
        "sdata=slist.split(',')\n",
        "fdata\n",
        "# sdata"
      ]
    },
    {
      "cell_type": "code",
      "execution_count": null,
      "metadata": {
        "colab": {
          "base_uri": "https://localhost:8080/"
        },
        "id": "tf1Z0uchEdjk",
        "outputId": "9dcf11e9-8850-4f7a-8f57-3c5b157e57e6"
      },
      "outputs": [
        {
          "name": "stdout",
          "output_type": "stream",
          "text": [
            "24\n",
            "24\n"
          ]
        }
      ],
      "source": [
        "n1=len(fdata)\n",
        "n2=len(sdata)\n",
        "print(n1) \n",
        "print(n2)"
      ]
    },
    {
      "cell_type": "code",
      "execution_count": null,
      "metadata": {
        "colab": {
          "base_uri": "https://localhost:8080/"
        },
        "id": "fcN0Db9WFArU",
        "outputId": "c6758672-1386-42c1-9794-1e919cecbb19"
      },
      "outputs": [
        {
          "name": "stdout",
          "output_type": "stream",
          "text": [
            "El item 1 de la primera lista es 185\n",
            "El item 2 de la primera lista es 183\n",
            "El item 3 de la primera lista es 180\n",
            "El item 4 de la primera lista es 169\n",
            "El item 5 de la primera lista es 146\n",
            "El item 6 de la primera lista es 129\n",
            "El item 7 de la primera lista es 110\n",
            "El item 8 de la primera lista es 89\n",
            "El item 9 de la primera lista es 72\n",
            "El item 10 de la primera lista es 48\n",
            "El item 11 de la primera lista es 39\n",
            "El item 12 de la primera lista es 35\n",
            "El item 13 de la primera lista es 28\n",
            "El item 14 de la primera lista es 39\n",
            "El item 15 de la primera lista es 48\n",
            "El item 16 de la primera lista es 67\n",
            "El item 17 de la primera lista es 85\n",
            "El item 18 de la primera lista es 111\n",
            "El item 19 de la primera lista es 139\n",
            "El item 20 de la primera lista es 164\n",
            "El item 21 de la primera lista es 183\n",
            "El item 22 de la primera lista es 203\n",
            "El item 23 de la primera lista es 224\n",
            "El item 24 de la primera lista es 236\n"
          ]
        }
      ],
      "source": [
        "for i in range(24):\n",
        "  print(f'El item {i+1} de la primera lista es {int(fdata[i])}')"
      ]
    },
    {
      "cell_type": "code",
      "execution_count": null,
      "metadata": {
        "colab": {
          "base_uri": "https://localhost:8080/"
        },
        "id": "iqPm4dL_GTQ0",
        "outputId": "cef8986a-2a5a-482a-efb0-d62d0869044a"
      },
      "outputs": [
        {
          "data": {
            "text/plain": [
              "[185,\n",
              " 183,\n",
              " 180,\n",
              " 169,\n",
              " 146,\n",
              " 129,\n",
              " 110,\n",
              " 89,\n",
              " 72,\n",
              " 48,\n",
              " 39,\n",
              " 35,\n",
              " 28,\n",
              " 39,\n",
              " 48,\n",
              " 67,\n",
              " 85,\n",
              " 111,\n",
              " 139,\n",
              " 164,\n",
              " 183,\n",
              " 203,\n",
              " 224,\n",
              " 236]"
            ]
          },
          "execution_count": 99,
          "metadata": {},
          "output_type": "execute_result"
        }
      ],
      "source": [
        "fnewlist=[]\n",
        "for i in range(24):\n",
        "  fnewlist.append(int(fdata[i]))\n",
        "\n",
        "fnewlist"
      ]
    },
    {
      "cell_type": "code",
      "execution_count": null,
      "metadata": {
        "colab": {
          "base_uri": "https://localhost:8080/"
        },
        "id": "y_4U3pjHHO0b",
        "outputId": "fa2fc709-0d18-4a9f-ce1f-a535f2ef0370"
      },
      "outputs": [
        {
          "data": {
            "text/plain": [
              "[197,\n",
              " 181,\n",
              " 173,\n",
              " 155,\n",
              " 142,\n",
              " 119,\n",
              " 86,\n",
              " 54,\n",
              " 30,\n",
              " 12,\n",
              " 3,\n",
              " 241,\n",
              " 245,\n",
              " 230,\n",
              " 236,\n",
              " 3,\n",
              " 15,\n",
              " 32,\n",
              " 51,\n",
              " 72,\n",
              " 100,\n",
              " 111,\n",
              " 131,\n",
              " 133]"
            ]
          },
          "execution_count": 101,
          "metadata": {},
          "output_type": "execute_result"
        }
      ],
      "source": [
        "snewlist=[]\n",
        "for i in range(24):\n",
        "  snewlist.append(int(sdata[i]))\n",
        "\n",
        "snewlist"
      ]
    },
    {
      "cell_type": "code",
      "execution_count": null,
      "metadata": {
        "id": "7UjI1Z5rHIhL"
      },
      "outputs": [],
      "source": [
        "for i in range(24):\n",
        "  snewlist.append(int(sdata[i]))"
      ]
    },
    {
      "cell_type": "code",
      "execution_count": null,
      "metadata": {
        "colab": {
          "base_uri": "https://localhost:8080/"
        },
        "id": "nXj9z4DcHW-b",
        "outputId": "4b56fcb6-5126-4371-9aca-e29b6e51a07b"
      },
      "outputs": [
        {
          "name": "stdout",
          "output_type": "stream",
          "text": [
            "236\n",
            "28\n",
            "245\n",
            "3\n"
          ]
        }
      ],
      "source": [
        "print(max(fnewlist))\n",
        "print(min(fnewlist))\n",
        "print(max(snewlist))\n",
        "print(min(snewlist))"
      ]
    },
    {
      "cell_type": "code",
      "execution_count": null,
      "metadata": {
        "id": "h3yLL9CbHqoa"
      },
      "outputs": [],
      "source": [
        "[x1,y1]=[236,25]\n",
        "[x2,y2]=[28,12]\n",
        "[x3,y3]=[245,25]\n",
        "[x4,y4]=[3,12]\n",
        "# print(x1,y1,x2,y2)"
      ]
    },
    {
      "cell_type": "code",
      "execution_count": null,
      "metadata": {
        "colab": {
          "base_uri": "https://localhost:8080/"
        },
        "id": "VwjbZdS8IpK8",
        "outputId": "b133f049-2e29-49a1-bfae-a87e24db5173"
      },
      "outputs": [
        {
          "name": "stdout",
          "output_type": "stream",
          "text": [
            "25.0\n",
            "25.0\n"
          ]
        }
      ],
      "source": [
        "def ADC1gradosC(valor_ADC):\n",
        "  valor_grdosC=(y2-y1)/(x2-x1)*(valor_ADC-x1)+y1\n",
        "  return valor_grdosC\n",
        "print(ADC1gradosC(236))\n",
        "\n",
        "def ADC2gradosC(valor_ADC):\n",
        "  valor_grdosC=(y4-y3)/(x4-x3)*(valor_ADC-x3)+y3\n",
        "  return valor_grdosC\n",
        "print(ADC2gradosC(245))"
      ]
    },
    {
      "cell_type": "code",
      "execution_count": null,
      "metadata": {
        "colab": {
          "base_uri": "https://localhost:8080/"
        },
        "id": "xyToD9iALYgr",
        "outputId": "a103b4b7-4fec-456e-e911-0ec69b903bd6"
      },
      "outputs": [
        {
          "data": {
            "text/plain": [
              "[21.8125,\n",
              " 21.6875,\n",
              " 21.5,\n",
              " 20.8125,\n",
              " 19.375,\n",
              " 18.3125,\n",
              " 17.125,\n",
              " 15.8125,\n",
              " 14.75,\n",
              " 13.25,\n",
              " 12.6875,\n",
              " 12.4375,\n",
              " 12.0,\n",
              " 12.6875,\n",
              " 13.25,\n",
              " 14.4375,\n",
              " 15.5625,\n",
              " 17.1875,\n",
              " 18.9375,\n",
              " 20.5,\n",
              " 21.6875,\n",
              " 22.9375,\n",
              " 24.25,\n",
              " 25.0]"
            ]
          },
          "execution_count": 103,
          "metadata": {},
          "output_type": "execute_result"
        }
      ],
      "source": [
        "fgraph=[]\n",
        "for i in range(24):\n",
        "  fgraph.append(ADC1gradosC(fnewlist[i]))\n",
        "\n",
        "fgraph"
      ]
    },
    {
      "cell_type": "code",
      "execution_count": null,
      "metadata": {
        "colab": {
          "base_uri": "https://localhost:8080/"
        },
        "id": "IfLRne-IL7I6",
        "outputId": "ba8a2f1b-908a-450e-bf4d-def33f0ebfa3"
      },
      "outputs": [
        {
          "data": {
            "text/plain": [
              "[22.421487603305785,\n",
              " 21.56198347107438,\n",
              " 21.132231404958677,\n",
              " 20.165289256198346,\n",
              " 19.46694214876033,\n",
              " 18.231404958677686,\n",
              " 16.458677685950413,\n",
              " 14.739669421487603,\n",
              " 13.450413223140496,\n",
              " 12.483471074380166,\n",
              " 12.0,\n",
              " 24.785123966942148,\n",
              " 25.0,\n",
              " 24.194214876033058,\n",
              " 24.516528925619834,\n",
              " 12.0,\n",
              " 12.644628099173554,\n",
              " 13.557851239669422,\n",
              " 14.578512396694215,\n",
              " 15.706611570247933,\n",
              " 17.210743801652892,\n",
              " 17.801652892561982,\n",
              " 18.876033057851238,\n",
              " 18.983471074380166]"
            ]
          },
          "execution_count": 104,
          "metadata": {},
          "output_type": "execute_result"
        }
      ],
      "source": [
        "sgraph=[]\n",
        "for i in range(24):\n",
        "  sgraph.append(ADC2gradosC(snewlist[i]))\n",
        "  \n",
        "sgraph\n"
      ]
    },
    {
      "cell_type": "code",
      "execution_count": null,
      "metadata": {
        "id": "WwPNjN07NSLa"
      },
      "outputs": [],
      "source": [
        "hours=[]\n",
        "for i in range(24):\n",
        "  hours.append(str(i))\n",
        "# hours"
      ]
    },
    {
      "cell_type": "code",
      "execution_count": null,
      "metadata": {
        "colab": {
          "base_uri": "https://localhost:8080/"
        },
        "id": "qUq7gQHKNsby",
        "outputId": "60184de0-3247-4f5a-e1d1-1df0f8a73f73"
      },
      "outputs": [
        {
          "data": {
            "text/plain": [
              "['18',\n",
              " '19',\n",
              " '20',\n",
              " '21',\n",
              " '22',\n",
              " '23',\n",
              " '0',\n",
              " '1',\n",
              " '2',\n",
              " '3',\n",
              " '4',\n",
              " '5',\n",
              " '6',\n",
              " '7',\n",
              " '8',\n",
              " '9',\n",
              " '10',\n",
              " '11',\n",
              " '12',\n",
              " '13',\n",
              " '14',\n",
              " '15',\n",
              " '16',\n",
              " '17']"
            ]
          },
          "execution_count": 81,
          "metadata": {},
          "output_type": "execute_result"
        }
      ],
      "source": [
        "time=hours[18:24]+hours[0:18]\n",
        "time"
      ]
    },
    {
      "cell_type": "code",
      "execution_count": null,
      "metadata": {
        "colab": {
          "base_uri": "https://localhost:8080/",
          "height": 265
        },
        "id": "Ee2wbDjnOFbK",
        "outputId": "8bb933ab-4bc6-4be9-de70-88a66077a57c"
      },
      "outputs": [
        {
          "data": {
            "image/png": "[encoded data removed]",
            "text/plain": [
              "<Figure size 432x288 with 1 Axes>"
            ]
          },
          "metadata": {
            "needs_background": "light"
          },
          "output_type": "display_data"
        }
      ],
      "source": [
        "plt.plot(time,fgraph,color=\"red\")\n",
        "plt.plot(time,sgraph,color=\"green\")\n",
        "plt.show()"
      ]
    }
  ],
  "metadata": {
    "colab": {
      "provenance": []
    },
    "kernelspec": {
      "display_name": "Python 3.10.6 64-bit",
      "language": "python",
      "name": "python3"
    },
    "language_info": {
      "name": "python",
      "version": "3.10.6"
    },
    "vscode": {
      "interpreter": {
        "hash": "98590ff4fe04c8543246b2a01debd3de3c5ca9b666f43f1fa87d5110c692004c"
      }
    }
  },
  "nbformat": 4,
  "nbformat_minor": 0
}
